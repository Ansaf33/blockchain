{
 "cells": [
  {
   "cell_type": "markdown",
   "id": "1c390517-aeea-463b-a1d4-21f6ae903785",
   "metadata": {},
   "source": [
    "### Important points to note :\n",
    "Hashlib contains SHA-256 which will be used to calculate **block_hash**"
   ]
  },
  {
   "cell_type": "code",
   "execution_count": 53,
   "id": "886ba981-2ca2-4ba7-913b-d6a8b90b8b2c",
   "metadata": {},
   "outputs": [],
   "source": [
    "import hashlib\n",
    "import os, sys\n",
    "from typing import List, Optional"
   ]
  },
  {
   "cell_type": "markdown",
   "id": "a1fa2f4c-5a01-40a3-959f-de930e14839f",
   "metadata": {},
   "source": [
    "### Transaction\n",
    "\n",
    "#### Attributes\n",
    "\n",
    "**from_account** : Account from which money was sent.\n",
    "\n",
    "**to_account** : Account to which money is credited.\n",
    "\n",
    "**amount** : Amount transferred.\n",
    "\n",
    "**incentive** : transactions often have some incentive to be added to the next block like some transaction fees."
   ]
  },
  {
   "cell_type": "code",
   "execution_count": 54,
   "id": "c59bfca5-85ec-4bb7-90a2-d7c33f2132da",
   "metadata": {},
   "outputs": [],
   "source": [
    "class Transaction:\n",
    "    # Constructor\n",
    "    def __init__(self,from_account: str,to_account: str,amount: int,incentive: int):\n",
    "        self.from_account = from_account\n",
    "        self.to_account = to_account\n",
    "        self.amount = amount\n",
    "        self.incentive = incentive\n",
    "    "
   ]
  },
  {
   "cell_type": "markdown",
   "id": "ec458eea-74cb-4ec7-9c2d-12f1091704a9",
   "metadata": {},
   "source": [
    "#### Function to Calculate Hash"
   ]
  },
  {
   "cell_type": "code",
   "execution_count": 55,
   "id": "b9b3fb20-469c-4448-ac75-241c4a991ef4",
   "metadata": {},
   "outputs": [],
   "source": [
    "def calculate_hash(data: bytes)->str:\n",
    "    ans =  hashlib.sha3_256(data).hexdigest()\n",
    "    #print(\"Calculated hash value = \" + ans)\n",
    "    return ans"
   ]
  },
  {
   "cell_type": "markdown",
   "id": "1c21ea73-7aaa-484d-931b-7a8097cf2429",
   "metadata": {},
   "source": [
    "### Merkle Tree\n",
    "\n",
    "#### Attributes\n",
    "\n",
    "**hash_value** : if both children, hash(node) = hash(hash(l)+hash(r)). else, hash(node) = hash(left)\n",
    "\n",
    "**left** : Pointer to left\n",
    "\n",
    "**right** : Pointer to right"
   ]
  },
  {
   "cell_type": "code",
   "execution_count": 56,
   "id": "4823a462-3d27-4881-baeb-1476aba387c5",
   "metadata": {},
   "outputs": [],
   "source": [
    "class MerkleNode:\n",
    "    # For leaf nodes, left and right is None\n",
    "    def __init__(self,hash_value: str,left: Optional['MerkleNode'] = None,right: Optional['MerkleNode'] = None):\n",
    "        self.hash_value = hash_value\n",
    "        self.left = left\n",
    "        self.right = right\n",
    "        \n",
    "    # Creating leaf node\n",
    "    @staticmethod\n",
    "    def create_leaf_node(t: Transaction)->'MerkleNode':\n",
    "        hash_input = (t.from_account + str(t.incentive) + t.to_account + str(t.amount)).encode('utf-8')\n",
    "        #print(\"hash of \" + t.from_account + \"-\" + str(t.incentive) + \"-\" + t.to_account + \"-\" + str(t.amount))\n",
    "        return MerkleNode(calculate_hash(hash_input))\n",
    "        \n",
    "    # Creating non-leaf nodes\n",
    "    @staticmethod\n",
    "    def create_internal_node(l: 'MerkleNode', r: Optional['MerkleNode'])->'MerkleNode':\n",
    "        if r:\n",
    "            #print(\"Hash value of internal node with left \" + l.hash_value + \" and right \" + r.hash_value)\n",
    "            hash_input = (l.hash_value + r.hash_value).encode('utf-8')\n",
    "            return MerkleNode(calculate_hash(hash_input),l,r)  \n",
    "        else:\n",
    "            #print(\"Hash value of internal node with left \" + l.hash_value)\n",
    "            return MerkleNode(l.hash_value)\n",
    "        \n",
    "          "
   ]
  },
  {
   "cell_type": "markdown",
   "id": "a3f3e58c-7109-455c-957a-a45400836195",
   "metadata": {},
   "source": [
    "### Build Function"
   ]
  },
  {
   "cell_type": "code",
   "execution_count": 57,
   "id": "f70d3f1a-8e3a-4207-81c4-e72176401f9c",
   "metadata": {},
   "outputs": [],
   "source": [
    "def build_merkle_tree(transactions: List[Transaction])->Optional['MerkleNode']:\n",
    "    # no transactions present in list\n",
    "    if not transactions:\n",
    "        return None\n",
    "    '''\n",
    "    create a list of leaf nodes using the transactions\n",
    "    [ t1 t2 t3 t4 ... tn ]\n",
    "    then create the tree\n",
    "    '''\n",
    "    nodes = [MerkleNode.create_leaf_node(t) for t in transactions]\n",
    "\n",
    "    while(len(nodes)>1):\n",
    "        new_nodes = []\n",
    "        for i in range(0,len(nodes),2):\n",
    "            # we can add left and right\n",
    "            if i < len(nodes) - 1 :\n",
    "                new_nodes.append(MerkleNode.create_internal_node(nodes[i],nodes[i+1]))\n",
    "            # can only add one of them\n",
    "            else:\n",
    "                new_nodes.append(MerkleNode.create_internal_node(nodes[i],None))\n",
    "        nodes = new_nodes\n",
    "\n",
    "    return nodes[0]\n",
    "            \n",
    "                \n",
    "\n",
    "    \n",
    "    \n",
    "    \n",
    "        \n",
    "    \n",
    "\n",
    "\n",
    "    "
   ]
  },
  {
   "cell_type": "markdown",
   "id": "2cdc6583-d86e-4a31-9e39-9fb9e6de7a42",
   "metadata": {},
   "source": [
    "### Function to create the entire merkle tree and return the root's hash value"
   ]
  },
  {
   "cell_type": "code",
   "execution_count": 58,
   "id": "fc86f2ed-15b9-4392-8811-7a1f0975462f",
   "metadata": {},
   "outputs": [],
   "source": [
    "def get_merkle_root(t: List[Transaction])->str:\n",
    "    root = build_merkle_tree(t)\n",
    "    return root.hash_value if root else \"0\""
   ]
  },
  {
   "cell_type": "markdown",
   "id": "67ce10af-3c59-442e-babc-2706648e92c4",
   "metadata": {},
   "source": [
    "## Blocks\n",
    "\n",
    "#### Attributes\n",
    "\n",
    "**block_number**: current block number\n",
    "\n",
    "**merkle_root**: root of merkle_tree\n",
    "\n",
    "**block_hash**: Hash(prev_block_hash+curr_block_number+current_merkle_root).(utf-8)\n",
    "\n",
    "**prevBlockHash** = Hash(prev_block_hash+curr_block_number+current_merkle_root)\n",
    "\n",
    "**transactions**: array of transactions (at most 3)"
   ]
  },
  {
   "cell_type": "code",
   "execution_count": 59,
   "id": "11b48434-6155-49e3-8773-8e8f747b5e18",
   "metadata": {},
   "outputs": [],
   "source": [
    "class Block:\n",
    "    #Constructor\n",
    "    def __init__(self,block_number: int,prev_block_hash: str,transaction_list: List[Transaction]):\n",
    "        self.block_number = block_number\n",
    "        self.prev_block_hash = prev_block_hash\n",
    "        self.transaction_list = transaction_list\n",
    "        self.merkle_root = get_merkle_root(transaction_list)\n",
    "        self.block_hash = calculate_hash((prev_block_hash+str(block_number)+self.merkle_root).encode('utf-8'))  "
   ]
  },
  {
   "cell_type": "markdown",
   "id": "ab67f636-0e29-4db2-a60f-e54ee0765417",
   "metadata": {},
   "source": [
    "### Execute Transactions"
   ]
  },
  {
   "cell_type": "code",
   "execution_count": 60,
   "id": "a9a6f9ca-5df6-41f3-bb66-eb534166be93",
   "metadata": {},
   "outputs": [],
   "source": [
    "def execute_transaction(t: Transaction, balances: dict)->bool:\n",
    "    balance_of_from = balances.get(t.from_account,0)\n",
    "    balance_of_to = balances.get(t.to_account,0)\n",
    "    # valid transaction only if balance of x exceeds amount being spent\n",
    "    if balance_of_from >= t.amount:\n",
    "        balances[t.from_account] = balances.get(t.from_account,0) - t.amount\n",
    "        balances[t.to_account] = balances.get(t.to_account,0) + t.amount\n",
    "        return True\n",
    "    return False"
   ]
  },
  {
   "cell_type": "markdown",
   "id": "8566d14f-16f7-4954-b5ca-85952437fad1",
   "metadata": {},
   "source": [
    "### Prints Transaction Details"
   ]
  },
  {
   "cell_type": "code",
   "execution_count": 61,
   "id": "8490a5d5-a777-4009-a47c-e0360479169f",
   "metadata": {},
   "outputs": [],
   "source": [
    "def get_transaction_details(transactions: List[Transaction]):\n",
    "    all_ts = []\n",
    "    for t in transactions:\n",
    "        vals = [t.from_account,t.to_account,t.amount,t.incentive]\n",
    "        all_ts.append(vals)\n",
    "    print(all_ts)\n",
    "        \n",
    "     \n",
    "    "
   ]
  },
  {
   "cell_type": "markdown",
   "id": "7680c07c-4a4f-4125-a59f-7e27d766a5aa",
   "metadata": {},
   "source": [
    "# MAIN FUNCTION\n",
    "    "
   ]
  },
  {
   "cell_type": "code",
   "execution_count": null,
   "id": "9911b72f-22ae-462d-b962-dc57c9c9195a",
   "metadata": {},
   "outputs": [],
   "source": [
    "def main():\n",
    "\n",
    "    blocks = []\n",
    "    block_number = 1\n",
    "    prev_block_hash = \"0\"\n",
    "    current_transactions = []\n",
    "    max_transactions_in_block = 4\n",
    "    \n",
    "    # get the account details of every individual\n",
    "    n = int(input())\n",
    "    balances = {}\n",
    "    for i in range(n):\n",
    "        account,balance = str(input()).split()\n",
    "        balances[account] = int(balance)\n",
    "\n",
    "    # get every transaction details\n",
    "    number_of_transactions = int(input())\n",
    "    transactions = []\n",
    "    for i in range(number_of_transactions):\n",
    "        from_account,to_account,amount,incentive = str(input()).split()\n",
    "        transactions.append(Transaction(from_account,to_account,int(amount),int(incentive)))\n",
    "\n",
    "    # sort based on decreasing order of incentive and increasing order of receiver (to_account)\n",
    "    transactions = sorted(transactions,key = lambda t:(-t.incentive,t.to_account))\n",
    "    \n",
    "    # now create the blockchain\n",
    "    for t in transactions:\n",
    "        # if valid transaction\n",
    "        if execute_transaction(t,balances):\n",
    "            current_transactions.append(t)\n",
    "            if len(current_transactions) == max_transactions_in_block:\n",
    "                block = Block(block_number,prev_block_hash,current_transactions)\n",
    "                prev_block_hash = block.block_hash\n",
    "                current_transactions = []\n",
    "                block_number = block_number + 1\n",
    "                blocks.append(block)\n",
    "\n",
    "\n",
    " \n",
    "    if len(current_transactions) != 0:\n",
    "        block = Block(block_number,prev_block_hash,current_transactions)\n",
    "        blocks.append(block)\n",
    "\n",
    "    for b in blocks:\n",
    "        print(b.block_number)\n",
    "        print(b.block_hash)\n",
    "        get_transaction_details(b.transaction_list)\n",
    "        print(b.merkle_root)\n",
    "\n",
    "        \n",
    "        \n",
    "            \n",
    "\n",
    "    \n",
    "\n",
    "\n",
    "if __name__ == \"__main__\":\n",
    "    main()\n",
    "\n",
    "        "
   ]
  },
  {
   "cell_type": "code",
   "execution_count": 52,
   "id": "145ee65f-0e41-466c-ac0f-719eb3f09be0",
   "metadata": {},
   "outputs": [],
   "source": []
  },
  {
   "cell_type": "code",
   "execution_count": null,
   "id": "5e78b854-bee8-4e15-ab74-c8baf551b0e8",
   "metadata": {},
   "outputs": [],
   "source": []
  }
 ],
 "metadata": {
  "kernelspec": {
   "display_name": "Python 3 (ipykernel)",
   "language": "python",
   "name": "python3"
  },
  "language_info": {
   "codemirror_mode": {
    "name": "ipython",
    "version": 3
   },
   "file_extension": ".py",
   "mimetype": "text/x-python",
   "name": "python",
   "nbconvert_exporter": "python",
   "pygments_lexer": "ipython3",
   "version": "3.11.8"
  }
 },
 "nbformat": 4,
 "nbformat_minor": 5
}
