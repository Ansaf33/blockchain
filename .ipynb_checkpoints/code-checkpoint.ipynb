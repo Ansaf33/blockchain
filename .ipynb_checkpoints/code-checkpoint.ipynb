{
 "cells": [
  {
   "cell_type": "markdown",
   "id": "1c390517-aeea-463b-a1d4-21f6ae903785",
   "metadata": {},
   "source": [
    "### Important points to note :\n",
    "Hashlib contains SHA-256 which will be used to calculate **block_hash**"
   ]
  },
  {
   "cell_type": "code",
   "execution_count": 104,
   "id": "886ba981-2ca2-4ba7-913b-d6a8b90b8b2c",
   "metadata": {},
   "outputs": [],
   "source": [
    "import hashlib\n",
    "import os, sys\n",
    "from typing import List, Optional"
   ]
  },
  {
   "cell_type": "markdown",
   "id": "a1fa2f4c-5a01-40a3-959f-de930e14839f",
   "metadata": {},
   "source": [
    "### Transaction\n",
    "\n",
    "#### Attributes\n",
    "\n",
    "**from_account** : Account from which money was sent.\n",
    "\n",
    "**to_account** : Account to which money is credited.\n",
    "\n",
    "**amount** : Amount transferred.\n",
    "\n",
    "**incentive** : transactions often have some incentive to be added to the next block like some transaction fees."
   ]
  },
  {
   "cell_type": "code",
   "execution_count": 105,
   "id": "c59bfca5-85ec-4bb7-90a2-d7c33f2132da",
   "metadata": {},
   "outputs": [],
   "source": [
    "class Transaction:\n",
    "    # Constructor\n",
    "    def __init__(self,from_account: str,to_account: str,amount: int,incentive: int):\n",
    "        self.from_account = from_account\n",
    "        self.to_account = to_account\n",
    "        self.amount = amount\n",
    "        self.incentive = incentive\n",
    "    "
   ]
  },
  {
   "cell_type": "markdown",
   "id": "ec458eea-74cb-4ec7-9c2d-12f1091704a9",
   "metadata": {},
   "source": [
    "#### Function to Calculate Hash"
   ]
  },
  {
   "cell_type": "code",
   "execution_count": 106,
   "id": "b9b3fb20-469c-4448-ac75-241c4a991ef4",
   "metadata": {},
   "outputs": [],
   "source": [
    "def calculate_hash(data: bytes)->str:\n",
    "    ans =  hashlib.sha3_256(data).hexdigest()\n",
    "    #print(\"Calculated hash value = \" + ans)\n",
    "    return ans"
   ]
  },
  {
   "cell_type": "markdown",
   "id": "1c21ea73-7aaa-484d-931b-7a8097cf2429",
   "metadata": {},
   "source": [
    "### Merkle Tree\n",
    "\n",
    "#### Attributes\n",
    "\n",
    "**hash_value** : if both children, hash(node) = hash(hash(l)+hash(r)). else, hash(node) = hash(left)\n",
    "\n",
    "**left** : Pointer to left\n",
    "\n",
    "**right** : Pointer to right"
   ]
  },
  {
   "cell_type": "code",
   "execution_count": 107,
   "id": "4823a462-3d27-4881-baeb-1476aba387c5",
   "metadata": {},
   "outputs": [],
   "source": [
    "class MerkleNode:\n",
    "    # For leaf nodes, left and right is None\n",
    "    def __init__(self,hash_value: str,left: Optional['MerkleNode'] = None,right: Optional['MerkleNode'] = None):\n",
    "        self.hash_value = hash_value\n",
    "        self.left = left\n",
    "        self.right = right\n",
    "        \n",
    "    # Creating leaf node\n",
    "    @staticmethod\n",
    "    def create_leaf_node(t: Transaction)->'MerkleNode':\n",
    "        hash_input = (t.from_account + str(t.incentive) + t.to_account + str(t.amount)).encode('utf-8')\n",
    "        #print(\"hash of \" + t.from_account + \"-\" + str(t.incentive) + \"-\" + t.to_account + \"-\" + str(t.amount))\n",
    "        return MerkleNode(calculate_hash(hash_input))\n",
    "        \n",
    "    # Creating non-leaf nodes\n",
    "    @staticmethod\n",
    "    def create_internal_node(l: 'MerkleNode', r: Optional['MerkleNode'])->'MerkleNode':\n",
    "        if r:\n",
    "            #print(\"Hash value of internal node with left \" + l.hash_value + \" and right \" + r.hash_value)\n",
    "            hash_input = (l.hash_value + r.hash_value).encode('utf-8')\n",
    "            return MerkleNode(calculate_hash(hash_input),l,r)  \n",
    "        else:\n",
    "            #print(\"Hash value of internal node with left \" + l.hash_value)\n",
    "            return MerkleNode(l.hash_value)\n",
    "        \n",
    "          "
   ]
  },
  {
   "cell_type": "markdown",
   "id": "a3f3e58c-7109-455c-957a-a45400836195",
   "metadata": {},
   "source": [
    "### Build Function"
   ]
  },
  {
   "cell_type": "code",
   "execution_count": 108,
   "id": "f70d3f1a-8e3a-4207-81c4-e72176401f9c",
   "metadata": {},
   "outputs": [],
   "source": [
    "def build_merkle_tree(transactions: List[Transaction])->Optional['MerkleNode']:\n",
    "    # no transactions present in list\n",
    "    if not transactions:\n",
    "        return None\n",
    "    '''\n",
    "    create a list of leaf nodes using the transactions\n",
    "    [ t1 t2 t3 t4 ... tn ]\n",
    "    then create the tree\n",
    "    '''\n",
    "    nodes = [MerkleNode.create_leaf_node(t) for t in transactions]\n",
    "\n",
    "    while(len(nodes)>1):\n",
    "        new_nodes = []\n",
    "        for i in range(0,len(nodes),2):\n",
    "            # we can add left and right\n",
    "            if i < len(nodes) - 1 :\n",
    "                new_nodes.append(MerkleNode.create_internal_node(nodes[i],nodes[i+1]))\n",
    "            # can only add one of them\n",
    "            else:\n",
    "                new_nodes.append(MerkleNode.create_internal_node(nodes[i],None))\n",
    "        nodes = new_nodes\n",
    "\n",
    "    return nodes[0]\n",
    "            \n",
    "                \n",
    "\n",
    "    \n",
    "    \n",
    "    \n",
    "        \n",
    "    \n",
    "\n",
    "\n",
    "    "
   ]
  },
  {
   "cell_type": "markdown",
   "id": "2cdc6583-d86e-4a31-9e39-9fb9e6de7a42",
   "metadata": {},
   "source": [
    "### Function to create the entire merkle tree and return the root's hash value"
   ]
  },
  {
   "cell_type": "code",
   "execution_count": 109,
   "id": "fc86f2ed-15b9-4392-8811-7a1f0975462f",
   "metadata": {},
   "outputs": [],
   "source": [
    "def get_merkle_root(t: List[Transaction])->str:\n",
    "    root = build_merkle_tree(t)\n",
    "    return root.hash_value if root else \"0\""
   ]
  },
  {
   "cell_type": "markdown",
   "id": "67ce10af-3c59-442e-babc-2706648e92c4",
   "metadata": {},
   "source": [
    "## Blocks\n",
    "\n",
    "#### Attributes\n",
    "\n",
    "**block_number**: current block number\n",
    "\n",
    "**merkle_root**: root of merkle_tree\n",
    "\n",
    "**block_hash**: Hash(prev_block_hash+curr_block_number+current_merkle_root).(utf-8)\n",
    "\n",
    "**prevBlockHash**: Hash(prev_block_hash+curr_block_number+current_merkle_root)\n",
    "\n",
    "**transactions**: array of transactions (at most 3)\n",
    "\n",
    "**nonce**: chain follows a custom Proof Of Work where a number called nonce is added to block properties such that Computed_hash(CH) has zero in the last hexadecimal digit.\n",
    "**CH** = #(block_hash+to_string(nonce)).\n",
    "\n",
    "**miner_id**: id of miner that seals the block"
   ]
  },
  {
   "cell_type": "code",
   "execution_count": 110,
   "id": "11b48434-6155-49e3-8773-8e8f747b5e18",
   "metadata": {},
   "outputs": [],
   "source": [
    "class Block:\n",
    "    #Constructor\n",
    "    def __init__(self,block_number: int,prev_block_hash: str,transaction_list: List[Transaction],miner_id: str):\n",
    "        self.block_number = block_number\n",
    "        self.prev_block_hash = prev_block_hash\n",
    "        self.transaction_list = transaction_list\n",
    "        self.merkle_root = get_merkle_root(transaction_list)\n",
    "        self.block_hash = calculate_hash((prev_block_hash+str(block_number)+self.merkle_root).encode('utf-8'))\n",
    "        nonce = 0\n",
    "        while True:\n",
    "            computed_hash = calculate_hash((self.block_hash+str(nonce)).encode('utf-8'))\n",
    "            if computed_hash[-1] == \"0\":\n",
    "                self.nonce = nonce\n",
    "                break\n",
    "            nonce += 1\n",
    "        self.miner_id = miner_id"
   ]
  },
  {
   "cell_type": "markdown",
   "id": "972c9605-715c-4afb-88d9-316ba08b66ec",
   "metadata": {},
   "source": [
    "### Miner\n",
    "\n",
    "#### Attributes\n",
    "\n",
    "**id**: identifier for the miner\n",
    "\n",
    "**computation_score**: computation score for the miner\n",
    "\n",
    "**block_hash_score_array**: data structure used to evaluate the performance or effectiveness of different hash attempts made by the miner when solving a Proof-of-Work (PoW) puzzle in blockchain mining."
   ]
  },
  {
   "cell_type": "code",
   "execution_count": 111,
   "id": "78477baf-7ec7-4d2d-90e0-e06c2df2f4e3",
   "metadata": {},
   "outputs": [],
   "source": [
    "class Miner:\n",
    "    #Constructor\n",
    "    def __init__(self,id: str,computation_score: int, block_hash_score_array: List[int]):\n",
    "        self.id = id\n",
    "        self.computation_score = computation_score\n",
    "        self.block_hash_score_array = block_hash_score_array"
   ]
  },
  {
   "cell_type": "markdown",
   "id": "e8ecde5e-f226-430b-8527-ccfe92ac8c0d",
   "metadata": {},
   "source": [
    "#### Prints Miner Details"
   ]
  },
  {
   "cell_type": "code",
   "execution_count": 112,
   "id": "5d736a8e-2a4f-4b25-a4c6-8005b0e62133",
   "metadata": {},
   "outputs": [],
   "source": [
    "def get_miner_details(miners: List[Miner]):\n",
    "    for m in miners:\n",
    "        print(m.id)\n",
    "        print(m.computation_score)\n",
    "        print(m.block_hash_score_array)"
   ]
  },
  {
   "cell_type": "markdown",
   "id": "ab67f636-0e29-4db2-a60f-e54ee0765417",
   "metadata": {},
   "source": [
    "### Execute Transactions"
   ]
  },
  {
   "cell_type": "code",
   "execution_count": 113,
   "id": "a9a6f9ca-5df6-41f3-bb66-eb534166be93",
   "metadata": {},
   "outputs": [],
   "source": [
    "def execute_transaction(t: Transaction, balances: dict)->bool:\n",
    "    balance_of_from = balances.get(t.from_account,0)\n",
    "    balance_of_to = balances.get(t.to_account,0)\n",
    "    # valid transaction only if balance of x exceeds amount being spent\n",
    "    if balance_of_from >= t.amount:\n",
    "        balances[t.from_account] = balances.get(t.from_account,0) - t.amount\n",
    "        balances[t.to_account] = balances.get(t.to_account,0) + t.amount\n",
    "        return True\n",
    "    return False"
   ]
  },
  {
   "cell_type": "markdown",
   "id": "8566d14f-16f7-4954-b5ca-85952437fad1",
   "metadata": {},
   "source": [
    "### Prints Transaction Details"
   ]
  },
  {
   "cell_type": "code",
   "execution_count": 114,
   "id": "8490a5d5-a777-4009-a47c-e0360479169f",
   "metadata": {},
   "outputs": [],
   "source": [
    "def get_transaction_details(transactions: List[Transaction]):\n",
    "    all_ts = []\n",
    "    for t in transactions:\n",
    "        vals = [t.from_account,t.to_account,t.amount,t.incentive]\n",
    "        all_ts.append(vals)\n",
    "    print(all_ts)"
   ]
  },
  {
   "cell_type": "markdown",
   "id": "f94f25dd-f3e0-44f6-8089-479a86e64570",
   "metadata": {},
   "source": [
    "### Finds the miner with maximum BSS"
   ]
  },
  {
   "cell_type": "code",
   "execution_count": 115,
   "id": "ace63908-6c7f-4200-9f99-106458f6570c",
   "metadata": {},
   "outputs": [],
   "source": [
    "def get_miner_with_max_bss(miner_list: List[Miner], block_number: int):\n",
    "    # find the miner\n",
    "    block_sealing_scores = [ m.computation_score*m.block_hash_score_array[block_number%8] for m in miner_list]\n",
    "    max_index = block_sealing_scores.index(max(block_sealing_scores))\n",
    "    miner_id = miner_list[max_index].id\n",
    "\n",
    "    return miner_id\n",
    "    "
   ]
  },
  {
   "cell_type": "markdown",
   "id": "7680c07c-4a4f-4125-a59f-7e27d766a5aa",
   "metadata": {},
   "source": [
    "# MAIN FUNCTION\n",
    "    "
   ]
  },
  {
   "cell_type": "code",
   "execution_count": 122,
   "id": "9911b72f-22ae-462d-b962-dc57c9c9195a",
   "metadata": {},
   "outputs": [
    {
     "name": "stdin",
     "output_type": "stream",
     "text": [
      " 7\n",
      " B 35\n",
      " L 20\n",
      " O 12\n",
      " C 40\n",
      " K 13\n",
      " E 100\n",
      " D 50\n",
      " 11\n",
      " E B 10 12\n",
      " O K 20 9\n",
      " D B 3 12\n",
      " L O 25 3\n",
      " B K 100 8\n",
      " K L 15 7\n",
      " L C 12 1\n",
      " L D 25 12\n",
      " C E 3 8\n",
      " B C 8 9\n",
      " C O 5 10\n",
      " 10\n",
      " 3\n",
      " L 80 27 22 23 25 28 20 29 24\n",
      " E 30 77 16 20 26 19 60 22 15\n",
      " O 50 27 38 23 25 28 20 48 24\n"
     ]
    },
    {
     "name": "stdout",
     "output_type": "stream",
     "text": [
      "1\n",
      "e85b466dc8244a2f46a8fa26adc852359e9abedfee88a5222e176d254c4f500a\n",
      "[['E', 'B', 10, 12], ['D', 'B', 3, 12], ['C', 'O', 5, 10], ['B', 'C', 8, 9]]\n",
      "e3785c5ca960fc032da650adb4e52d5ffbdfdcd63bca50b83e82e1d7e5a3ce03\n",
      "0 O\n",
      "2\n",
      "746ffaccd9a4ce2d4397cb7d90ef648cbbad23a57d6fb12db0783df265927d6e\n",
      "[['O', 'K', 20, 9], ['C', 'E', 3, 8], ['K', 'L', 15, 7], ['L', 'O', 25, 3]]\n",
      "06b810c7e67eb1fb1106661f47b2b2d27226459826d9b2a4853cc399c01aba48\n",
      "4 L\n",
      "3\n",
      "b65fa9c290b863dd1b11ab8a420b27e5a4a916cd76d3696158df37c337af27e4\n",
      "[['L', 'C', 12, 1]]\n",
      "e216d3b5e508e470da1f572d49cf9628c34a1dd7310653c40ebdb15b5ec847d2\n",
      "10 L\n"
     ]
    }
   ],
   "source": [
    "def main():\n",
    "\n",
    "    blocks = []\n",
    "    block_number = 1\n",
    "    prev_block_hash = \"0\"\n",
    "    current_transactions = []\n",
    "    max_transactions_in_block = 4\n",
    "    \n",
    "    # get the account details of every individual\n",
    "    n = int(input())\n",
    "    balances = {}\n",
    "    for i in range(n):\n",
    "        account,balance = str(input()).split()\n",
    "        balances[account] = int(balance)\n",
    "\n",
    "    # get every transaction details\n",
    "    number_of_transactions = int(input())\n",
    "    transactions = []\n",
    "    for i in range(number_of_transactions):\n",
    "        from_account,to_account,amount,incentive = str(input()).split()\n",
    "        transactions.append(Transaction(from_account,to_account,int(amount),int(incentive)))\n",
    "\n",
    "    # get block reward\n",
    "    block_reward = int(input())\n",
    "    \n",
    "    # get miner details\n",
    "    number_of_miners = int(input())\n",
    "    miner_list = []\n",
    "    for i in range(number_of_miners):\n",
    "        combined = str(input()).split()\n",
    "        identifier = str(combined[0])\n",
    "        computation_score = int(combined[1])\n",
    "        block_hash_score_array = [int(x) for x in combined[2:]]\n",
    "        miner_list.append(Miner(identifier,computation_score,block_hash_score_array))\n",
    "    \n",
    "    # sort based on decreasing order of incentive and increasing order of receiver (to_account)\n",
    "    transactions = sorted(transactions,key = lambda t:(-t.incentive,t.to_account))\n",
    "    \n",
    "    # now create the blockchain\n",
    "    for t in transactions:\n",
    "        # if valid transaction\n",
    "        if execute_transaction(t,balances):\n",
    "            current_transactions.append(t)\n",
    "            if len(current_transactions) == max_transactions_in_block:\n",
    "\n",
    "                # call get_miner_id function\n",
    "                miner_id = get_miner_with_max_bss(miner_list,block_number)\n",
    "                \n",
    "                # create block and add to list of blocks\n",
    "                block = Block(block_number,prev_block_hash,current_transactions,miner_id)\n",
    "                prev_block_hash = block.block_hash\n",
    "                current_transactions = []\n",
    "                block_number = block_number + 1\n",
    "                blocks.append(block)\n",
    "\n",
    "                # update balance\n",
    "                balances[miner_id] += block_reward\n",
    "\n",
    "\n",
    " \n",
    "    if len(current_transactions) != 0:\n",
    "        \n",
    "        # call get_miner_id function\n",
    "        miner_id = get_miner_with_max_bss(miner_list,block_number)\n",
    "        \n",
    "        block = Block(block_number,prev_block_hash,current_transactions,miner_id)\n",
    "        blocks.append(block)\n",
    "\n",
    "        # update balance\n",
    "        balances[miner_id] += block_reward\n",
    "\n",
    "    for b in blocks:\n",
    "        print(b.block_number)\n",
    "        print(b.block_hash)\n",
    "        get_transaction_details(b.transaction_list)\n",
    "        print(b.merkle_root)\n",
    "        print(str(b.nonce) + \" \" + b.miner_id)\n",
    "\n",
    "  \n",
    "        \n",
    "            \n",
    "\n",
    "\n",
    "\n",
    "if __name__ == \"__main__\":\n",
    "    main()\n",
    "\n",
    "        "
   ]
  },
  {
   "cell_type": "code",
   "execution_count": null,
   "id": "766ae371-9f34-4419-86e7-0d9de7bab5bb",
   "metadata": {},
   "outputs": [],
   "source": []
  }
 ],
 "metadata": {
  "kernelspec": {
   "display_name": "Python 3 (ipykernel)",
   "language": "python",
   "name": "python3"
  },
  "language_info": {
   "codemirror_mode": {
    "name": "ipython",
    "version": 3
   },
   "file_extension": ".py",
   "mimetype": "text/x-python",
   "name": "python",
   "nbconvert_exporter": "python",
   "pygments_lexer": "ipython3",
   "version": "3.11.8"
  }
 },
 "nbformat": 4,
 "nbformat_minor": 5
}
